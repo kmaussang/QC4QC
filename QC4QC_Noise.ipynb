{
 "cells": [
  {
   "cell_type": "markdown",
   "id": "b4c293c3-0713-4e6c-9515-08b2ea68b68c",
   "metadata": {},
   "source": [
    "# QC4QC 2024 tutorial: Noise in Quantum Computing"
   ]
  },
  {
   "cell_type": "markdown",
   "id": "b07ecda8-51e6-4295-a7ae-a109decffb86",
   "metadata": {},
   "source": [
    "For this tutorial, we need features that are not in myQLM, but are present in Qaptiva (the full product).\n",
    "We have access to a distant Qaptiva, to which we need first to connect. Because everyone is going to use it at the same time, **limit your circuits to no more than 5 qubits!**\n",
    "Enter username and password given by Eviden staff."
   ]
  },
  {
   "cell_type": "code",
   "execution_count": null,
   "id": "d351e8f4-407e-4f96-b50a-67e1ec3472ae",
   "metadata": {},
   "outputs": [],
   "source": [
    "from qat.qlmaas import QLMaaSConnection\n",
    "\n",
    "conn = QLMaaSConnection(hostname=\"qlm35e.neasqc.eu\")\n",
    "conn.create_config() "
   ]
  },
  {
   "cell_type": "markdown",
   "id": "3a09fe92-c3ab-474e-b06c-4567c93f6da5",
   "metadata": {},
   "source": [
    "## Noisy QFT: a first example"
   ]
  },
  {
   "cell_type": "markdown",
   "id": "66f5f4f5-4d65-4597-8a4f-4041265f592d",
   "metadata": {},
   "source": [
    "We first study a simple circuit: a Quantum Fourier Transform (QFT) on 3 qubits. It only requires Hadamard and controlled-phase gates. This code produce this circuit:"
   ]
  },
  {
   "cell_type": "code",
   "execution_count": null,
   "id": "0cefb37e-cda6-4bfa-a9b8-07335911a5b5",
   "metadata": {
    "tags": []
   },
   "outputs": [],
   "source": [
    "from qat.lang.AQASM import Program\n",
    "from qat.lang.AQASM.qftarith import QFT\n",
    "nqbits = 3\n",
    "prog = Program()\n",
    "reg = prog.qalloc(nqbits)\n",
    "prog.apply(QFT(nqbits), reg)\n",
    "qft_circuit = prog.to_circ(inline=True) #convert program to circuit\n",
    "qft_circuit.display()"
   ]
  },
  {
   "cell_type": "markdown",
   "id": "0e54879f-6197-4b4f-b279-664dbec1cbc8",
   "metadata": {},
   "source": [
    "We emulate this circuit on the distant Qaptiva, without noise:"
   ]
  },
  {
   "cell_type": "code",
   "execution_count": null,
   "id": "0a5c24bb-54f9-4e6e-88df-1c87e2a0f4f9",
   "metadata": {
    "tags": []
   },
   "outputs": [],
   "source": [
    "# from qat.qpus import get_default_qpu\n",
    "from qlmaas.qpus import LinAlg\n",
    "\n",
    "job = qft_circuit.to_job('SAMPLE')\n",
    "qpu = LinAlg()\n",
    "res = qpu.submit(job).join()\n",
    "\n",
    "res.plot()"
   ]
  },
  {
   "cell_type": "markdown",
   "id": "46241883-6213-4308-96e7-411d9448f953",
   "metadata": {},
   "source": [
    "We want to know what is the outcome of this circuit when qubits are noisy. We assume they are submitted to decoherence when no gate is applied on them (idle qubit). We model the decoherence phenomenon by two quantum channels:\n",
    "\n",
    "* Amplitude damping ($T_1$)\n",
    "\n",
    "* Pure Dephasing ($T_{\\phi}$)"
   ]
  },
  {
   "cell_type": "markdown",
   "id": "2ba73953-9a71-4b88-b11f-e6e56996d81a",
   "metadata": {},
   "source": [
    "### Gate specifications"
   ]
  },
  {
   "cell_type": "markdown",
   "id": "b3266d94-b26e-4139-8968-cfd0e7ca8565",
   "metadata": {},
   "source": [
    "We need to tell Qaptiva how long each gate takes to apply, so that it can deduce when and how long qubits are idle. This is done in a `GateSpecification` object, which contains gate time information but also what operation each gate does.\n",
    "\n",
    "The `DefaultGateSpecification` allows to produce a `GateSpecification` with all the standard gate operations and some default gate time. Here we use it and overwrite the gate times with our own:"
   ]
  },
  {
   "cell_type": "code",
   "execution_count": null,
   "id": "2e09e723-fda0-4e04-b33d-829e17770095",
   "metadata": {
    "tags": []
   },
   "outputs": [],
   "source": [
    "gate_times = {\"H\":60, \"C-PH\":lambda angle :150}  # in nanoseconds\n",
    "\n",
    "from qat.hardware import DefaultGatesSpecification\n",
    "gates_spec = DefaultGatesSpecification(gate_times)"
   ]
  },
  {
   "cell_type": "markdown",
   "id": "9ae0e7f4-3682-4f05-a5c9-d89ac45043e4",
   "metadata": {},
   "source": [
    "### Noise quantum channels"
   ]
  },
  {
   "cell_type": "markdown",
   "id": "97b7daa5-af24-4e47-9ef1-1e5ac049ca06",
   "metadata": {},
   "source": [
    "Now let's choose the effect of the noise. Qaptiva has already defined an amplitude damping and a pure dephasing channel:"
   ]
  },
  {
   "cell_type": "code",
   "execution_count": null,
   "id": "e0b7100f-d82e-4dc1-9324-dccaeaee8bb7",
   "metadata": {
    "tags": []
   },
   "outputs": [],
   "source": [
    "from qat.quops import ParametricPureDephasing, ParametricAmplitudeDamping\n",
    "T1, T2 = 4400, 3890  # in nanoseconds\n",
    "\n",
    "ad_channel = ParametricAmplitudeDamping(T_1 = T1)\n",
    "\n",
    "pd_channel = ParametricPureDephasing(T_phi = 1/(1/T2 - 1/(2*T1)))"
   ]
  },
  {
   "cell_type": "markdown",
   "id": "6919eec1-d638-4688-b61a-6f3836d0d3f8",
   "metadata": {},
   "source": [
    "### Hardware model = Gate Specification + quantum channels"
   ]
  },
  {
   "cell_type": "markdown",
   "id": "fabfd7c1-bc0c-4d22-9e04-485d0493f1db",
   "metadata": {},
   "source": [
    "Now we combine both information in a single `HardwareModel` object:"
   ]
  },
  {
   "cell_type": "code",
   "execution_count": null,
   "id": "62983bb0-a609-485a-9934-17e9ab3852eb",
   "metadata": {
    "tags": []
   },
   "outputs": [],
   "source": [
    "from qat.hardware import HardwareModel\n",
    "\n",
    "hardware_model = HardwareModel(gates_spec, idle_noise=[ad_channel, pd_channel])\n"
   ]
  },
  {
   "cell_type": "markdown",
   "id": "d33bd8bf-b4d8-48c4-ad2d-5bbd9fabcc0a",
   "metadata": {},
   "source": [
    "### Noisy emulation"
   ]
  },
  {
   "cell_type": "markdown",
   "id": "08a11863-e407-4adb-8c21-6733438df9a0",
   "metadata": {},
   "source": [
    "Time to get the result! In Qaptiva, everything about noise or the imperfections of the quantum computer is contained in a `HardwareModel` object and given as a parameter of a QPU emulator.\n",
    "Only some QPU can handle noise, and the first choice should be `NoisyQProc`, which performs exact emulation."
   ]
  },
  {
   "cell_type": "code",
   "execution_count": null,
   "id": "2168a284-180c-4904-8dae-b1b8bfad4f26",
   "metadata": {
    "tags": []
   },
   "outputs": [],
   "source": [
    "from qlmaas.qpus import NoisyQProc\n",
    "\n",
    "job = qft_circuit.to_job('SAMPLE')\n",
    "noisy_qpu = NoisyQProc(hardware_model)\n",
    "res = noisy_qpu.submit(job).join()\n",
    "\n",
    "res.plot()"
   ]
  },
  {
   "cell_type": "markdown",
   "id": "36c433fc-d6af-4e1a-913b-31b1347809a0",
   "metadata": {},
   "source": [
    "## Noisy VQE: adapt to your previous tutorials circuits"
   ]
  },
  {
   "cell_type": "markdown",
   "id": "98928205-6cc2-48cb-bb80-38160318ba72",
   "metadata": {},
   "source": [
    "Now it is your turn! Use what you learned to emulate the variational algorithm of this morning's tutorial, but with noisy qubits.\n",
    "\n",
    "In the next few cells, we reproduced the code necessary for the VQE calculation you did previously. Adapt it to take noise into account in the simulation.\n",
    "\n",
    "Hint: you need to give the time of all gates used in your circuit!\n",
    "\n",
    "Observe the result and compare with noiseless emulation. Does VQE perform better/worse? How does it depend on $T_1$ and $T_2$? On gate times? On the number of layers?\n"
   ]
  },
  {
   "cell_type": "code",
   "execution_count": null,
   "id": "2d1cf47e-1ff7-40e5-b3e0-61f00c86f911",
   "metadata": {},
   "outputs": [],
   "source": [
    "## Fill in the gaps \"......\" and copy your circuit from the previous tutorial\n",
    "\n",
    "gate_times = {\"X\":60, \"CNOT\": 120, \"RY\": lambda theta: 60}  # in nanoseconds\n",
    "gates_spec = DefaultGatesSpecification(gate_times)\n",
    "\n",
    "T1, T2 = 4400, 3890  # in nanoseconds\n",
    "ad_channel = ParametricAmplitudeDamping(T_1 = T1)\n",
    "pd_channel = ParametricPureDephasing(T_phi = 1/(1/T2 - 1/(2*T1)))\n",
    "\n",
    "hardware_model = HardwareModel(gates_spec, idle_noise=[ad_channel, pd_channel])\n"
   ]
  },
  {
   "cell_type": "code",
   "execution_count": null,
   "id": "46751c95-cca2-4e77-b1fa-cf22bec2795a",
   "metadata": {},
   "outputs": [],
   "source": [
    "import numpy as np\n",
    "from qat.plugins import ScipyMinimizePlugin\n",
    "from qat.lang.AQASM import Program, X, RX, RY, RZ, CNOT\n",
    "from qat.fermion.chemistry import MolecularHamiltonian\n",
    "from qat.fermion.transforms import transform_to_jw_basis\n",
    "\n",
    "h2_data = np.load(\"data/h2_data.npz\", allow_pickle=True)\n",
    "\n",
    "rdm1 = h2_data[\"rdm1\"]\n",
    "nuclear_repulsion = h2_data[\"nuclear_repulsion\"]\n",
    "one_body_integrals = h2_data[\"one_body_integrals\"]\n",
    "two_body_integrals = h2_data[\"two_body_integrals\"]\n",
    "noons, basis_change = np.linalg.eigh(rdm1)\n",
    "nqbits = rdm1.shape[0] * 2  # Assuming each orbital corresponds to 2 qubits (spin-up and spin-down)\n",
    "\n",
    "mol_h = MolecularHamiltonian(one_body_integrals, two_body_integrals, nuclear_repulsion)\n",
    "Ham = mol_h.get_electronic_hamiltonian()\n",
    "H_sp = transform_to_jw_basis(Ham)"
   ]
  },
  {
   "cell_type": "code",
   "execution_count": null,
   "id": "297a9ec0-1474-4569-806b-9702f19a39ca",
   "metadata": {},
   "outputs": [],
   "source": [
    "\n",
    "prog = Program()\n",
    "reg = prog.qalloc(H_sp.nbqbits)\n",
    "\n",
    "for i in range(2):\n",
    "    prog.apply(X, reg[i])\n",
    "\n",
    "theta_list = [prog.new_var(float, \"\\\\theta_{%s}\" % i) for i in range(32)]\n",
    "\n",
    "for l in range(4):\n",
    "    for i in range(4):\n",
    "        prog.apply(RY(theta_list[i + 4 * l]), reg[i])\n",
    "    for i in range(3):\n",
    "        prog.apply(CNOT, reg[i], reg[i + 1])\n",
    "for i in range(4):\n",
    "    prog.apply(RY(theta_list[i + 4 * (l + 1)]), reg[i])\n",
    "\n",
    "circ = prog.to_circ()\n",
    "circ.display()\n"
   ]
  },
  {
   "cell_type": "code",
   "execution_count": null,
   "id": "d9fa6126-f413-4d35-8917-d38f72219d67",
   "metadata": {},
   "outputs": [],
   "source": [
    "## Plugins should be imported from qlmaas:\n",
    "from qlmaas.plugins import ScipyMinimizePlugin, ObservableSplitter\n",
    "\n",
    "job = circ.to_job(observable=H_sp, nbshots=0)\n",
    "optimizer_scipy = ScipyMinimizePlugin(method=\"COBYLA\", tol=1e-3, options={\"maxiter\": 1000})\n",
    "qpu = optimizer_scipy | ObservableSplitter() | NoisyQProc(hardware_model)\n",
    "## The ObservableSplitter split the hamiltonian in terms that can actually be measured on an actual quantum computer\n",
    "\n",
    "result = qpu.submit(job)\n",
    "\n",
    "print(\"Minimum energy =\", result.value)\n"
   ]
  },
  {
   "cell_type": "code",
   "execution_count": null,
   "id": "55c0b549-04f3-4907-9165-d2059080c12a",
   "metadata": {},
   "outputs": [],
   "source": []
  },
  {
   "cell_type": "markdown",
   "id": "1ebec626-3303-43cd-a050-f9d660b3f8d4",
   "metadata": {},
   "source": [
    "## More advances Hardware Models"
   ]
  },
  {
   "cell_type": "markdown",
   "id": "e09aa455-8303-43ef-8512-06344846750e",
   "metadata": {},
   "source": [
    "So far, we only saw a basic noise model. With Qaptiva, you can further:\n",
    "* apply different noise on different qubits\n",
    "* create your own quanutm channels, for personalized coupling to the environment\n",
    "* emulate State Preparation And Measurement (SPAM) errors\n",
    "* emulate faulty gates\n",
    "* combine all that!"
   ]
  },
  {
   "cell_type": "markdown",
   "id": "dcbbeb68-e7ef-4a4d-a568-c3cc1db396ea",
   "metadata": {},
   "source": [
    "Let's try having different $T_1$ and $T_2$ for different qubits (fill in the blanks):"
   ]
  },
  {
   "cell_type": "code",
   "execution_count": null,
   "id": "6a507c8a-5ef4-4f8e-9629-9575e08af794",
   "metadata": {},
   "outputs": [],
   "source": [
    "nb_qubits = ...\n",
    "\n",
    "T1_list = [4400, 3500, ......]  # in nanoseconds\n",
    "T2_list = [3890, 3950, ......]  # in nanoseconds\n",
    "ad_channel_list = [ParametricAmplitudeDamping(T_1 = T1) for T_1 in T_1_list]\n",
    "pd_channel_list = [ParametricPureDephasing(T_phi = 1/(1/T2 - 1/(2*T1))) for T_1, T_2 in zip(T_1_list, T_2_list)]\n",
    "\n",
    "idle_noise = {qubit_index: [ad_channel_list[qubit_index], pd_channel_list[qubit_index]] for qubit_index in range(nb_qubits)}\n",
    "\n",
    "hardware_model = ......\n"
   ]
  },
  {
   "cell_type": "code",
   "execution_count": null,
   "id": "609e15a1-a0a7-4be2-bc8f-df4f1621fd90",
   "metadata": {},
   "outputs": [],
   "source": []
  }
 ],
 "metadata": {
  "kernelspec": {
   "display_name": "Python 3 (ipykernel)",
   "language": "python",
   "name": "python3"
  },
  "language_info": {
   "codemirror_mode": {
    "name": "ipython",
    "version": 3
   },
   "file_extension": ".py",
   "mimetype": "text/x-python",
   "name": "python",
   "nbconvert_exporter": "python",
   "pygments_lexer": "ipython3",
   "version": "3.10.12"
  }
 },
 "nbformat": 4,
 "nbformat_minor": 5
}
